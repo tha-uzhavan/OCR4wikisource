{
  "nbformat": 4,
  "nbformat_minor": 0,
  "metadata": {
    "colab": {
      "name": "FirstTamilFreeOpenPythonWorkshop-muthuRamalingam-4July2020.ipynb",
      "provenance": [],
      "collapsed_sections": [],
      "authorship_tag": "ABX9TyOOWtk2X46xb9P9AMNH0ouq",
      "include_colab_link": true
    },
    "kernelspec": {
      "name": "python3",
      "display_name": "Python 3"
    }
  },
  "cells": [
    {
      "cell_type": "markdown",
      "metadata": {
        "id": "view-in-github",
        "colab_type": "text"
      },
      "source": [
        "<a href=\"https://colab.research.google.com/github/tha-uzhavan/OCR4wikisource/blob/master/FirstTamilFreeOpensourceConference-pythonWorkshop-muthuRamalingam-4July2020-11am-1pm-India.ipynb\" target=\"_parent\"><img src=\"https://colab.research.google.com/assets/colab-badge.svg\" alt=\"Open In Colab\"/></a>"
      ]
    },
    {
      "cell_type": "code",
      "metadata": {
        "id": "ZR4iI7r1gbLm",
        "colab_type": "code",
        "colab": {}
      },
      "source": [
        ""
      ],
      "execution_count": null,
      "outputs": []
    },
    {
      "cell_type": "code",
      "metadata": {
        "id": "4IecK81Phfdp",
        "colab_type": "code",
        "colab": {
          "base_uri": "https://localhost:8080/",
          "height": 35
        },
        "outputId": "11afb0c2-61f4-4f23-a74a-fb7ab536811f"
      },
      "source": [
        "அகலம் = 100\n",
        "நீளம் = 50\n",
        "பரப்பு = 100*50\n",
        "பரப்பு"
      ],
      "execution_count": null,
      "outputs": [
        {
          "output_type": "execute_result",
          "data": {
            "text/plain": [
              "5000"
            ]
          },
          "metadata": {
            "tags": []
          },
          "execution_count": 1
        }
      ]
    },
    {
      "cell_type": "code",
      "metadata": {
        "id": "_ewE1rqth448",
        "colab_type": "code",
        "colab": {
          "base_uri": "https://localhost:8080/",
          "height": 35
        },
        "outputId": "99478a4f-29cc-4635-9ea8-37e772b600a8"
      },
      "source": [
        "தமிழ், ஆங்கிலம், வரலாறு = 100,98,45\n",
        "தமிழ்+ஆங்கிலம்+வரலாறு"
      ],
      "execution_count": null,
      "outputs": [
        {
          "output_type": "execute_result",
          "data": {
            "text/plain": [
              "243"
            ]
          },
          "metadata": {
            "tags": []
          },
          "execution_count": 2
        }
      ]
    },
    {
      "cell_type": "code",
      "metadata": {
        "id": "gcA2DIMxiMap",
        "colab_type": "code",
        "colab": {
          "base_uri": "https://localhost:8080/",
          "height": 35
        },
        "outputId": "6fe7b9ba-b017-4c08-e0f3-f54b0360f78c"
      },
      "source": [
        "விலை = 121.99\n",
        "வரி = 4.5\n",
        "மொத்தம் = விலை * வரி\n",
        "மொத்தம்\n",
        "#round(மொத்தம்)# 4 முதல் 24 வரை காட்டும்\n",
        "s[4:24]\n",
        "s[::3]\n",
        "#இறுதிவரை காட்ட, : புள்ளிக்கு அடுத்து எதுவும் போடக்கூடாது\n",
        "s[0:]\n",
        "s[4:24]"
      ],
      "execution_count": null,
      "outputs": [
        {
          "output_type": "execute_result",
          "data": {
            "text/plain": [
              "548.9549999999999"
            ]
          },
          "metadata": {
            "tags": []
          },
          "execution_count": 4
        }
      ]
    },
    {
      "cell_type": "code",
      "metadata": {
        "id": "JGZ7RWIWlSL6",
        "colab_type": "code",
        "colab": {
          "base_uri": "https://localhost:8080/",
          "height": 305
        },
        "outputId": "35c4f553-c2bb-4179-92c2-158d4da27664"
      },
      "source": [
        "import pywikibot"
      ],
      "execution_count": null,
      "outputs": [
        {
          "output_type": "error",
          "ename": "ModuleNotFoundError",
          "evalue": "ignored",
          "traceback": [
            "\u001b[0;31m---------------------------------------------------------------------------\u001b[0m",
            "\u001b[0;31mModuleNotFoundError\u001b[0m                       Traceback (most recent call last)",
            "\u001b[0;32m<ipython-input-5-89e9d6cc6900>\u001b[0m in \u001b[0;36m<module>\u001b[0;34m()\u001b[0m\n\u001b[0;32m----> 1\u001b[0;31m \u001b[0;32mimport\u001b[0m \u001b[0mpywikibot\u001b[0m\u001b[0;34m\u001b[0m\u001b[0;34m\u001b[0m\u001b[0m\n\u001b[0m",
            "\u001b[0;31mModuleNotFoundError\u001b[0m: No module named 'pywikibot'",
            "",
            "\u001b[0;31m---------------------------------------------------------------------------\u001b[0;32m\nNOTE: If your import is failing due to a missing package, you can\nmanually install dependencies using either !pip or !apt.\n\nTo view examples of installing some common dependencies, click the\n\"Open Examples\" button below.\n\u001b[0;31m---------------------------------------------------------------------------\u001b[0m\n"
          ]
        }
      ]
    },
    {
      "cell_type": "code",
      "metadata": {
        "id": "gK2LUSUipjHl",
        "colab_type": "code",
        "colab": {
          "base_uri": "https://localhost:8080/",
          "height": 35
        },
        "outputId": "48572699-8bc9-43b8-981b-5fda2e63d059"
      },
      "source": [
        "'வணக்கம்'"
      ],
      "execution_count": null,
      "outputs": [
        {
          "output_type": "execute_result",
          "data": {
            "application/vnd.google.colaboratory.intrinsic": {
              "type": "string"
            },
            "text/plain": [
              "'வணக்கம்'"
            ]
          },
          "metadata": {
            "tags": []
          },
          "execution_count": 6
        }
      ]
    },
    {
      "cell_type": "code",
      "metadata": {
        "id": "C8pukqAAkLHi",
        "colab_type": "code",
        "colab": {
          "base_uri": "https://localhost:8080/",
          "height": 35
        },
        "outputId": "3c91ac70-8a9d-4f4d-ee4b-7b06df6b6660"
      },
      "source": [
        "'''நான் கற்றுக் கொண்டிருக்கிறேன்'''"
      ],
      "execution_count": null,
      "outputs": [
        {
          "output_type": "execute_result",
          "data": {
            "application/vnd.google.colaboratory.intrinsic": {
              "type": "string"
            },
            "text/plain": [
              "'நான் கற்றுக் கொண்டிருக்கிறேன்'"
            ]
          },
          "metadata": {
            "tags": []
          },
          "execution_count": 7
        }
      ]
    },
    {
      "cell_type": "code",
      "metadata": {
        "id": "DPcOmnXuqrSl",
        "colab_type": "code",
        "colab": {
          "base_uri": "https://localhost:8080/",
          "height": 297
        },
        "outputId": "75695f51-dc8d-46bf-aeb9-1c25bf4579d7"
      },
      "source": [
        "!pip install pywikibot"
      ],
      "execution_count": 9,
      "outputs": [
        {
          "output_type": "stream",
          "text": [
            "Collecting pywikibot\n",
            "\u001b[?25l  Downloading https://files.pythonhosted.org/packages/b6/11/fe48ba059b7403b343460c032fbc726b300679f9955502d5c0a8417169fe/pywikibot-3.0.20200703.tar.gz (515kB)\n",
            "\u001b[K     |████████████████████████████████| 522kB 2.8MB/s \n",
            "\u001b[?25hRequirement already satisfied: requests>=2.20.1 in /usr/local/lib/python3.6/dist-packages (from pywikibot) (2.23.0)\n",
            "Requirement already satisfied: urllib3!=1.25.0,!=1.25.1,<1.26,>=1.21.1 in /usr/local/lib/python3.6/dist-packages (from requests>=2.20.1->pywikibot) (1.24.3)\n",
            "Requirement already satisfied: certifi>=2017.4.17 in /usr/local/lib/python3.6/dist-packages (from requests>=2.20.1->pywikibot) (2020.6.20)\n",
            "Requirement already satisfied: chardet<4,>=3.0.2 in /usr/local/lib/python3.6/dist-packages (from requests>=2.20.1->pywikibot) (3.0.4)\n",
            "Requirement already satisfied: idna<3,>=2.5 in /usr/local/lib/python3.6/dist-packages (from requests>=2.20.1->pywikibot) (2.9)\n",
            "Building wheels for collected packages: pywikibot\n",
            "  Building wheel for pywikibot (setup.py) ... \u001b[?25l\u001b[?25hdone\n",
            "  Created wheel for pywikibot: filename=pywikibot-3.0.20200703-cp36-none-any.whl size=549500 sha256=6dae1a5187fecb541203ecbce888e81db0d3687ceae3c8e4918b47646931b0e5\n",
            "  Stored in directory: /root/.cache/pip/wheels/8a/bf/3e/003c50ce33f1dab06df20d7d3b343889828db3c0c7f9c59c85\n",
            "Successfully built pywikibot\n",
            "Installing collected packages: pywikibot\n",
            "Successfully installed pywikibot-3.0.20200703\n"
          ],
          "name": "stdout"
        }
      ]
    },
    {
      "cell_type": "code",
      "metadata": {
        "id": "Eo6K75b3rYpr",
        "colab_type": "code",
        "colab": {
          "base_uri": "https://localhost:8080/",
          "height": 201
        },
        "outputId": "74e47079-e4ad-45c2-eba8-e55f90dda4a0"
      },
      "source": [
        "நூல் = 'புத்தகம்'\n",
        "நூல்\n",
        "நூல்[0]\n",
        "நூல்[5]\n",
        "நூல்[6]\n",
        "நூல்[7]\n",
        "நூல்[8]\n"
      ],
      "execution_count": 17,
      "outputs": [
        {
          "output_type": "error",
          "ename": "IndexError",
          "evalue": "ignored",
          "traceback": [
            "\u001b[0;31m---------------------------------------------------------------------------\u001b[0m",
            "\u001b[0;31mIndexError\u001b[0m                                Traceback (most recent call last)",
            "\u001b[0;32m<ipython-input-17-eccc0ff4d8ed>\u001b[0m in \u001b[0;36m<module>\u001b[0;34m()\u001b[0m\n\u001b[1;32m      5\u001b[0m \u001b[0mந\u001b[0m\u001b[0;31mூ\u001b[0m\u001b[0mல\u001b[0m\u001b[0;31m்\u001b[0m\u001b[0;34m[\u001b[0m\u001b[0;36m6\u001b[0m\u001b[0;34m]\u001b[0m\u001b[0;34m\u001b[0m\u001b[0;34m\u001b[0m\u001b[0m\n\u001b[1;32m      6\u001b[0m \u001b[0mந\u001b[0m\u001b[0;31mூ\u001b[0m\u001b[0mல\u001b[0m\u001b[0;31m்\u001b[0m\u001b[0;34m[\u001b[0m\u001b[0;36m7\u001b[0m\u001b[0;34m]\u001b[0m\u001b[0;34m\u001b[0m\u001b[0;34m\u001b[0m\u001b[0m\n\u001b[0;32m----> 7\u001b[0;31m \u001b[0mந\u001b[0m\u001b[0;31mூ\u001b[0m\u001b[0mல\u001b[0m\u001b[0;31m்\u001b[0m\u001b[0;34m[\u001b[0m\u001b[0;36m8\u001b[0m\u001b[0;34m]\u001b[0m\u001b[0;34m\u001b[0m\u001b[0;34m\u001b[0m\u001b[0m\n\u001b[0m",
            "\u001b[0;31mIndexError\u001b[0m: string index out of range"
          ]
        }
      ]
    },
    {
      "cell_type": "code",
      "metadata": {
        "id": "qGAOYfLZuzel",
        "colab_type": "code",
        "colab": {}
      },
      "source": [
        ""
      ],
      "execution_count": null,
      "outputs": []
    },
    {
      "cell_type": "code",
      "metadata": {
        "id": "PmkHGbUgsRCd",
        "colab_type": "code",
        "colab": {
          "base_uri": "https://localhost:8080/",
          "height": 35
        },
        "outputId": "a7be1821-8014-430d-ecb9-fbbd85fb6531"
      },
      "source": [
        "s='0123456789'\n",
        "# 5 வரை காட்டும்\n",
        "s[:5]\n",
        "# 4 முதல் 7 வரை காட்டும்\n",
        "s[4:8]\n",
        "# ஒன்றுவிட்டு ஒன்றுகாட்டும்\n",
        "s[::2]\n",
        "#இறுதிவரை காட்ட, : புள்ளிக்கு அடுத்து எதுவும் போடக்கூடாது\n",
        "s[0:]\n"
      ],
      "execution_count": 33,
      "outputs": [
        {
          "output_type": "execute_result",
          "data": {
            "application/vnd.google.colaboratory.intrinsic": {
              "type": "string"
            },
            "text/plain": [
              "'0123456789'"
            ]
          },
          "metadata": {
            "tags": []
          },
          "execution_count": 33
        }
      ]
    }
  ]
}